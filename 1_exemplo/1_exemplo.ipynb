{
 "cells": [
  {
   "cell_type": "markdown",
   "metadata": {},
   "source": [
    "https://www.youtube.com/watch?v=a4CgoOqFimw"
   ]
  },
  {
   "cell_type": "code",
   "execution_count": 1,
   "metadata": {},
   "outputs": [
    {
     "name": "stdout",
     "output_type": "stream",
     "text": [
      "Collecting gekko\n",
      "  Downloading gekko-1.2.1-py3-none-any.whl (13.2 MB)\n",
      "     ---------------------------------------- 13.2/13.2 MB 1.6 MB/s eta 0:00:00\n",
      "Requirement already satisfied: numpy>=1.8 in c:\\users\\luan lima\\appdata\\local\\programs\\python\\python310\\lib\\site-packages (from gekko) (1.25.1)\n",
      "Installing collected packages: gekko\n",
      "Successfully installed gekko-1.2.1\n",
      "Note: you may need to restart the kernel to use updated packages.\n"
     ]
    },
    {
     "name": "stderr",
     "output_type": "stream",
     "text": [
      "\n",
      "[notice] A new release of pip available: 22.2.2 -> 24.3.1\n",
      "[notice] To update, run: python.exe -m pip install --upgrade pip\n"
     ]
    }
   ],
   "source": [
    "pip install gekko"
   ]
  },
  {
   "cell_type": "code",
   "execution_count": 2,
   "metadata": {},
   "outputs": [
    {
     "name": "stdout",
     "output_type": "stream",
     "text": [
      "Optimal cost: 3.1999999556\n",
      "x1: 2.0\n",
      "x2: 0.99999994451\n",
      "x3: 2.0\n"
     ]
    }
   ],
   "source": [
    "from gekko import GEKKO\n",
    "m = GEKKO()\n",
    "x1 = m.Var(value=2,lb=0,ub=2)\n",
    "x2 = m.Var(value=3,lb=0,ub=2)\n",
    "x3 = m.Var(value=4,lb=0,ub=2)\n",
    "m.Equation(x1 + x2 + x3 == 5)\n",
    "m.Equation(x2 + x3 <= 4)\n",
    "m.Minimize(0.5*x1 + 0.8*x2 + 0.7*x3)\n",
    "m.solve(disp=False)\n",
    "\n",
    "print('Optimal cost: ' + str(m.options.objfcnval))\n",
    "print('x1: ' + str(x1.value[0]))\n",
    "print('x2: ' + str(x2.value[0]))\n",
    "print('x3: ' + str(x3.value[0]))"
   ]
  }
 ],
 "metadata": {
  "kernelspec": {
   "display_name": "Python 3",
   "language": "python",
   "name": "python3"
  },
  "language_info": {
   "codemirror_mode": {
    "name": "ipython",
    "version": 3
   },
   "file_extension": ".py",
   "mimetype": "text/x-python",
   "name": "python",
   "nbconvert_exporter": "python",
   "pygments_lexer": "ipython3",
   "version": "3.10.7"
  }
 },
 "nbformat": 4,
 "nbformat_minor": 2
}
