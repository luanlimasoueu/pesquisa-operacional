{
 "cells": [
  {
   "cell_type": "code",
   "execution_count": 1,
   "metadata": {},
   "outputs": [
    {
     "name": "stdout",
     "output_type": "stream",
     "text": [
      "Collecting handcalcs\n",
      "  Downloading handcalcs-1.6.5-py2.py3-none-any.whl (89 kB)\n",
      "     ---------------------------------------- 89.2/89.2 kB 2.5 MB/s eta 0:00:00\n",
      "Collecting more_itertools\n",
      "  Downloading more_itertools-10.2.0-py3-none-any.whl (57 kB)\n",
      "     ---------------------------------------- 57.0/57.0 kB ? eta 0:00:00\n",
      "Requirement already satisfied: pyparsing in c:\\users\\luan lima\\appdata\\local\\programs\\python\\python310\\lib\\site-packages (from handcalcs) (3.0.9)\n",
      "Requirement already satisfied: nbconvert>=6.0 in c:\\users\\luan lima\\appdata\\local\\programs\\python\\python310\\lib\\site-packages (from handcalcs) (7.8.0)\n",
      "Collecting innerscope\n",
      "  Downloading innerscope-0.7.0-py3-none-any.whl (19 kB)\n",
      "Requirement already satisfied: pygments>=2.4.1 in c:\\users\\luan lima\\appdata\\roaming\\python\\python310\\site-packages (from nbconvert>=6.0->handcalcs) (2.15.1)\n",
      "Requirement already satisfied: nbformat>=5.7 in c:\\users\\luan lima\\appdata\\local\\programs\\python\\python310\\lib\\site-packages (from nbconvert>=6.0->handcalcs) (5.9.2)\n",
      "Requirement already satisfied: defusedxml in c:\\users\\luan lima\\appdata\\local\\programs\\python\\python310\\lib\\site-packages (from nbconvert>=6.0->handcalcs) (0.7.1)\n",
      "Requirement already satisfied: traitlets>=5.1 in c:\\users\\luan lima\\appdata\\roaming\\python\\python310\\site-packages (from nbconvert>=6.0->handcalcs) (5.9.0)\n",
      "Requirement already satisfied: mistune<4,>=2.0.3 in c:\\users\\luan lima\\appdata\\local\\programs\\python\\python310\\lib\\site-packages (from nbconvert>=6.0->handcalcs) (3.0.1)\n",
      "Requirement already satisfied: nbclient>=0.5.0 in c:\\users\\luan lima\\appdata\\local\\programs\\python\\python310\\lib\\site-packages (from nbconvert>=6.0->handcalcs) (0.8.0)\n",
      "Requirement already satisfied: packaging in c:\\users\\luan lima\\appdata\\local\\programs\\python\\python310\\lib\\site-packages (from nbconvert>=6.0->handcalcs) (23.2)\n",
      "Requirement already satisfied: pandocfilters>=1.4.1 in c:\\users\\luan lima\\appdata\\local\\programs\\python\\python310\\lib\\site-packages (from nbconvert>=6.0->handcalcs) (1.5.0)\n",
      "Requirement already satisfied: markupsafe>=2.0 in c:\\users\\luan lima\\appdata\\local\\programs\\python\\python310\\lib\\site-packages (from nbconvert>=6.0->handcalcs) (2.1.3)\n",
      "Requirement already satisfied: jupyterlab-pygments in c:\\users\\luan lima\\appdata\\local\\programs\\python\\python310\\lib\\site-packages (from nbconvert>=6.0->handcalcs) (0.2.2)\n",
      "Requirement already satisfied: bleach!=5.0.0 in c:\\users\\luan lima\\appdata\\local\\programs\\python\\python310\\lib\\site-packages (from nbconvert>=6.0->handcalcs) (6.0.0)\n",
      "Requirement already satisfied: tinycss2 in c:\\users\\luan lima\\appdata\\local\\programs\\python\\python310\\lib\\site-packages (from nbconvert>=6.0->handcalcs) (1.2.1)\n",
      "Requirement already satisfied: jinja2>=3.0 in c:\\users\\luan lima\\appdata\\local\\programs\\python\\python310\\lib\\site-packages (from nbconvert>=6.0->handcalcs) (3.1.2)\n",
      "Requirement already satisfied: jupyter-core>=4.7 in c:\\users\\luan lima\\appdata\\roaming\\python\\python310\\site-packages (from nbconvert>=6.0->handcalcs) (5.3.1)\n",
      "Requirement already satisfied: beautifulsoup4 in c:\\users\\luan lima\\appdata\\local\\programs\\python\\python310\\lib\\site-packages (from nbconvert>=6.0->handcalcs) (4.12.2)\n",
      "Requirement already satisfied: toolz in c:\\users\\luan lima\\appdata\\local\\programs\\python\\python310\\lib\\site-packages (from innerscope->handcalcs) (0.12.0)\n",
      "Requirement already satisfied: webencodings in c:\\users\\luan lima\\appdata\\local\\programs\\python\\python310\\lib\\site-packages (from bleach!=5.0.0->nbconvert>=6.0->handcalcs) (0.5.1)\n",
      "Requirement already satisfied: six>=1.9.0 in c:\\users\\luan lima\\appdata\\roaming\\python\\python310\\site-packages (from bleach!=5.0.0->nbconvert>=6.0->handcalcs) (1.16.0)\n",
      "Requirement already satisfied: pywin32>=300 in c:\\users\\luan lima\\appdata\\roaming\\python\\python310\\site-packages (from jupyter-core>=4.7->nbconvert>=6.0->handcalcs) (306)\n",
      "Requirement already satisfied: platformdirs>=2.5 in c:\\users\\luan lima\\appdata\\roaming\\python\\python310\\site-packages (from jupyter-core>=4.7->nbconvert>=6.0->handcalcs) (3.9.1)\n",
      "Requirement already satisfied: jupyter-client>=6.1.12 in c:\\users\\luan lima\\appdata\\roaming\\python\\python310\\site-packages (from nbclient>=0.5.0->nbconvert>=6.0->handcalcs) (8.3.0)\n",
      "Requirement already satisfied: jsonschema>=2.6 in c:\\users\\luan lima\\appdata\\local\\programs\\python\\python310\\lib\\site-packages (from nbformat>=5.7->nbconvert>=6.0->handcalcs) (4.19.0)\n",
      "Requirement already satisfied: fastjsonschema in c:\\users\\luan lima\\appdata\\local\\programs\\python\\python310\\lib\\site-packages (from nbformat>=5.7->nbconvert>=6.0->handcalcs) (2.18.0)\n",
      "Requirement already satisfied: soupsieve>1.2 in c:\\users\\luan lima\\appdata\\local\\programs\\python\\python310\\lib\\site-packages (from beautifulsoup4->nbconvert>=6.0->handcalcs) (2.5)\n",
      "Requirement already satisfied: rpds-py>=0.7.1 in c:\\users\\luan lima\\appdata\\local\\programs\\python\\python310\\lib\\site-packages (from jsonschema>=2.6->nbformat>=5.7->nbconvert>=6.0->handcalcs) (0.10.2)\n",
      "Requirement already satisfied: jsonschema-specifications>=2023.03.6 in c:\\users\\luan lima\\appdata\\local\\programs\\python\\python310\\lib\\site-packages (from jsonschema>=2.6->nbformat>=5.7->nbconvert>=6.0->handcalcs) (2023.7.1)\n",
      "Requirement already satisfied: referencing>=0.28.4 in c:\\users\\luan lima\\appdata\\local\\programs\\python\\python310\\lib\\site-packages (from jsonschema>=2.6->nbformat>=5.7->nbconvert>=6.0->handcalcs) (0.30.2)\n",
      "Requirement already satisfied: attrs>=22.2.0 in c:\\users\\luan lima\\appdata\\local\\programs\\python\\python310\\lib\\site-packages (from jsonschema>=2.6->nbformat>=5.7->nbconvert>=6.0->handcalcs) (23.1.0)\n",
      "Requirement already satisfied: pyzmq>=23.0 in c:\\users\\luan lima\\appdata\\roaming\\python\\python310\\site-packages (from jupyter-client>=6.1.12->nbclient>=0.5.0->nbconvert>=6.0->handcalcs) (25.1.0)\n",
      "Requirement already satisfied: python-dateutil>=2.8.2 in c:\\users\\luan lima\\appdata\\roaming\\python\\python310\\site-packages (from jupyter-client>=6.1.12->nbclient>=0.5.0->nbconvert>=6.0->handcalcs) (2.8.2)\n",
      "Requirement already satisfied: tornado>=6.2 in c:\\users\\luan lima\\appdata\\roaming\\python\\python310\\site-packages (from jupyter-client>=6.1.12->nbclient>=0.5.0->nbconvert>=6.0->handcalcs) (6.3.2)\n",
      "Installing collected packages: more_itertools, innerscope, handcalcs\n",
      "Successfully installed handcalcs-1.6.5 innerscope-0.7.0 more_itertools-10.2.0\n",
      "Note: you may need to restart the kernel to use updated packages.\n"
     ]
    },
    {
     "name": "stderr",
     "output_type": "stream",
     "text": [
      "\n",
      "[notice] A new release of pip available: 22.2.2 -> 24.0\n",
      "[notice] To update, run: python.exe -m pip install --upgrade pip\n"
     ]
    }
   ],
   "source": [
    "pip install handcalcs"
   ]
  },
  {
   "cell_type": "code",
   "execution_count": 2,
   "metadata": {},
   "outputs": [],
   "source": [
    "import handcalcs.render"
   ]
  },
  {
   "cell_type": "code",
   "execution_count": 3,
   "metadata": {},
   "outputs": [
    {
     "data": {
      "text/latex": [
       "\\[\n",
       "\\begin{aligned}\n",
       "a &= 3 \\; \n",
       "\\\\[10pt]\n",
       "b &= 4 \\; \n",
       "\\\\[10pt]\n",
       "c &= a \\cdot b \\cdot 2  = 3 \\cdot 4 \\cdot 2 &= 24  \n",
       "\\\\[10pt]\n",
       "c &= 24 \\; \n",
       "\\end{aligned}\n",
       "\\]"
      ],
      "text/plain": [
       "<IPython.core.display.Latex object>"
      ]
     },
     "metadata": {},
     "output_type": "display_data"
    }
   ],
   "source": [
    "%%render\n",
    "a = 3\n",
    "b = 4\n",
    "c = a*b*2\n",
    "c"
   ]
  },
  {
   "cell_type": "code",
   "execution_count": 4,
   "metadata": {},
   "outputs": [],
   "source": [
    "from math import sqrt, sin, pi"
   ]
  },
  {
   "cell_type": "code",
   "execution_count": 5,
   "metadata": {},
   "outputs": [
    {
     "data": {
      "text/latex": [
       "\\[\n",
       "\\begin{aligned}\n",
       "d &= \\sqrt { a } + \\sin \\left( b \\right) + \\pi + \\sqrt { a }  = \\sqrt { 3 } + \\sin \\left( 4 \\right) + 3.142 + \\sqrt { 3 } &= 5.849 \\; \\;\\textrm{(this is d)}\n",
       "\\\\[10pt]\n",
       "e &= \\sin \\left( b \\right) + \\pi + \\sqrt { a } + \\sin \\left( b \\right) + \\pi  = \\sin \\left( 4 \\right) + 3.142 + \\sqrt { 3 } + \\sin \\left( 4 \\right) + 3.142 &= 6.502 \\; \\;\\textrm{(this e)}\n",
       "\\end{aligned}\n",
       "\\]"
      ],
      "text/plain": [
       "<IPython.core.display.Latex object>"
      ]
     },
     "metadata": {},
     "output_type": "display_data"
    }
   ],
   "source": [
    "%%render\n",
    "d = sqrt(a) + sin(b) + pi + sqrt(a)  # this is d\n",
    "e = sin(b) + pi + sqrt(a) + sin(b) + pi # this e"
   ]
  }
 ],
 "metadata": {
  "kernelspec": {
   "display_name": "Python 3",
   "language": "python",
   "name": "python3"
  },
  "language_info": {
   "codemirror_mode": {
    "name": "ipython",
    "version": 3
   },
   "file_extension": ".py",
   "mimetype": "text/x-python",
   "name": "python",
   "nbconvert_exporter": "python",
   "pygments_lexer": "ipython3",
   "version": "3.10.7"
  }
 },
 "nbformat": 4,
 "nbformat_minor": 2
}
